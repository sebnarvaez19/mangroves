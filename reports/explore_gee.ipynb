{
 "cells": [
  {
   "cell_type": "code",
   "execution_count": 1,
   "id": "801435d4-c1d1-488f-92db-b37b907229d7",
   "metadata": {},
   "outputs": [],
   "source": [
    "import ee\n",
    "import geemap"
   ]
  },
  {
   "cell_type": "code",
   "execution_count": 2,
   "id": "634938f5-082a-40d6-831b-f04da8b4a7e6",
   "metadata": {},
   "outputs": [],
   "source": [
    "ee.Initialize()"
   ]
  },
  {
   "cell_type": "code",
   "execution_count": 3,
   "id": "016593cf-adf9-4807-9fde-cb9facc14495",
   "metadata": {},
   "outputs": [],
   "source": [
    "forests = ee.FeatureCollection(\"projects/ee-sebnarvaez-mangroves/assets/forests\")"
   ]
  },
  {
   "cell_type": "code",
   "execution_count": 4,
   "id": "4b56172a-29be-4354-b9f0-7b5ea5621e4d",
   "metadata": {},
   "outputs": [
    {
     "data": {
      "text/plain": [
       "{'area': 3013573.18211,\n",
       " 'area [ha]': 301.357,\n",
       " 'dpto': 'Atlántico',\n",
       " 'key': 'mallorquin',\n",
       " 'scale': '1:25000',\n",
       " 'swamp': 'Mallorquín Swamp',\n",
       " 'year': 2017}"
      ]
     },
     "execution_count": 4,
     "metadata": {},
     "output_type": "execute_result"
    }
   ],
   "source": [
    "mallorquin = forests.filter(ee.Filter.eq(\"key\", \"mallorquin\"))\n",
    "\n",
    "mallorquin.first().getInfo()[\"properties\"]"
   ]
  },
  {
   "cell_type": "code",
   "execution_count": 5,
   "id": "8e335205-7b1f-4faf-98d7-21ea68c2c2f2",
   "metadata": {},
   "outputs": [
    {
     "data": {
      "text/plain": [
       "416"
      ]
     },
     "execution_count": 5,
     "metadata": {},
     "output_type": "execute_result"
    }
   ],
   "source": [
    "L8 = ee.ImageCollection(\"LANDSAT/LC08/C02/T1_L2\").filterBounds(mallorquin)\n",
    "\n",
    "len(L8.getInfo()[\"features\"])"
   ]
  },
  {
   "cell_type": "code",
   "execution_count": 6,
   "id": "a3f44f67-ac03-4fb7-afa7-d9a9fc67208a",
   "metadata": {},
   "outputs": [],
   "source": [
    "icf = [];\n",
    "\n",
    "for j in range(2014, 2022):\n",
    "    ic1 = L8.filter(ee.Filter.calendarRange(j, j, \"year\"))\n",
    "    \n",
    "    for i in range(1, 13):\n",
    "        im1 = ic1.filter(ee.Filter.calendarRange(i, i, \"month\")).mean()\n",
    "        im1 = im1.set(\"ym\", j+i/13).set(\"y\", j).set(\"m\", i)\n",
    "        icf.append(im1)\n",
    "        \n",
    "icf = ee.ImageCollection(icf)"
   ]
  },
  {
   "cell_type": "code",
   "execution_count": 7,
   "id": "644ed202-3101-435b-b56d-7063836fa26a",
   "metadata": {},
   "outputs": [
    {
     "data": {
      "text/plain": [
       "96"
      ]
     },
     "execution_count": 7,
     "metadata": {},
     "output_type": "execute_result"
    }
   ],
   "source": [
    "len(icf.getInfo()[\"features\"])"
   ]
  },
  {
   "cell_type": "code",
   "execution_count": 9,
   "id": "f4dd39a2-ad26-43c1-9fca-3f2504d89450",
   "metadata": {},
   "outputs": [
    {
     "data": {
      "application/vnd.jupyter.widget-view+json": {
       "model_id": "6e08b24e5fea4cd8814cc749428e9dec",
       "version_major": 2,
       "version_minor": 0
      },
      "text/plain": [
       "Map(center=[20, 0], controls=(WidgetControl(options=['position', 'transparent_bg'], widget=HBox(children=(Togg…"
      ]
     },
     "execution_count": 9,
     "metadata": {},
     "output_type": "execute_result"
    }
   ],
   "source": [
    "img = icf.filter(ee.Filter.eq(\"y\", 2021)).filter(ee.Filter.eq(\"m\", 11))\n",
    "\n",
    "\n",
    "Map = geemap.Map()\n",
    "\n",
    "Map.addLayer(img, {\"bands\": [\"SR_B4\", \"SR_B3\", \"SR_B2\"], \"min\": 6000, \"max\": 19000}, \"L8\")\n",
    "Map.addLayer(mallorquin)\n",
    "\n",
    "Map.centerObject(mallorquin)\n",
    "\n",
    "Map"
   ]
  },
  {
   "cell_type": "code",
   "execution_count": 10,
   "id": "53b1554a-7e2b-40c9-b357-e9563417b37f",
   "metadata": {},
   "outputs": [
    {
     "data": {
      "text/plain": [
       "416"
      ]
     },
     "execution_count": 10,
     "metadata": {},
     "output_type": "execute_result"
    }
   ],
   "source": [
    "L8 = ee.ImageCollection(\"LANDSAT/LC08/C02/T1_L2\").filterBounds(mallorquin)\n",
    "\n",
    "len(L8.getInfo()[\"features\"])"
   ]
  },
  {
   "cell_type": "code",
   "execution_count": 12,
   "id": "153662e2-d95f-4c67-be45-d4b32995f93b",
   "metadata": {},
   "outputs": [
    {
     "data": {
      "text/plain": [
       "416"
      ]
     },
     "execution_count": 12,
     "metadata": {},
     "output_type": "execute_result"
    }
   ],
   "source": [
    "L8 = ee.ImageCollection(\"LANDSAT/LC08/C02/T1_L2\").filterBounds(mallorquin).filter(ee.Filter.eq(\"PROCESSING_LEVEL\", \"L2SP\"))\n",
    "\n",
    "len(L8.getInfo()[\"features\"])"
   ]
  },
  {
   "cell_type": "code",
   "execution_count": 33,
   "id": "4e679f22-c1a4-4420-988e-4e4bfbcffb45",
   "metadata": {},
   "outputs": [
    {
     "data": {
      "text/plain": [
       "355"
      ]
     },
     "execution_count": 33,
     "metadata": {},
     "output_type": "execute_result"
    }
   ],
   "source": [
    "forest = forests.filter(ee.Filter.eq(\"key\", \"mallorquin\"))\n",
    "\n",
    "L7 = (\n",
    "    ee.ImageCollection(\"LANDSAT/LC08/C02/T1_L2\")\n",
    "      .filterBounds(forest)\n",
    "      .filter(ee.Filter.calendarRange(2014, 2021, \"year\"))\n",
    "      .filter(ee.Filter.eq(\"PROCESSING_LEVEL\", \"L2SP\"))\n",
    ")\n",
    "\n",
    "L7.size().getInfo()"
   ]
  }
 ],
 "metadata": {
  "kernelspec": {
   "display_name": "Python 3 (ipykernel)",
   "language": "python",
   "name": "python3"
  },
  "language_info": {
   "codemirror_mode": {
    "name": "ipython",
    "version": 3
   },
   "file_extension": ".py",
   "mimetype": "text/x-python",
   "name": "python",
   "nbconvert_exporter": "python",
   "pygments_lexer": "ipython3",
   "version": "3.10.8"
  }
 },
 "nbformat": 4,
 "nbformat_minor": 5
}
